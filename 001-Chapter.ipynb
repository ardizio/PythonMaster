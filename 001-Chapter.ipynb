{
 "cells": [
  {
   "cell_type": "markdown",
   "metadata": {},
   "source": [
    "# Pyhton Overview\n",
    "\n",
    "Python is an interpreted language. \n",
    "\n",
    "The programmer defines the scripts in advance and those commands are saved in a plain text file known as script (.py)\n",
    "\n",
    "---\n",
    "\n",
    "## Objects in Python\n",
    "\n",
    "**Identifiers** are case-sensitive, can be composed of a-z,A-z,0-9 and Unicode chars.\n",
    "\n",
    "33 reserved words: [False, None, True, and, as, assert,break, class, continue, def, del elif, else, except, finally, for, from, global, if, import, in, is, lambda, nonlocal, not, or, pass, raise, return, try, while, with, yield]\n",
    "\n",
    "Each identifier is implicitly associated with the `memory address` of the object to wich it refers. \n",
    "\n",
    "A programmer can establish an alias by assigning a second itentifier to an existing object.\n",
    "\n",
    "```\n",
    "temperature = 98.5\n",
    "original = temperature \n",
    "```\n",
    "\n",
    "Once an alias has been established, either name can be used to access underlying object. \n",
    "\n",
    "If I one of the name is reassigned to a new value , that does not affect the aliased object.\n",
    "\n",
    "```\n",
    "temperature = temperature + 5\n",
    "# temperature = 103.5\n",
    "# original = 98.5\n",
    "```\n",
    "\n",
    "\n",
    "The process od **creating a new instance of a class** is called `instantiation`\n",
    "\n"
   ]
  }
 ],
 "metadata": {
  "kernelspec": {
   "display_name": "Python 3",
   "language": "python",
   "name": "python3"
  },
  "language_info": {
   "codemirror_mode": {
    "name": "ipython",
    "version": 3
   },
   "file_extension": ".py",
   "mimetype": "text/x-python",
   "name": "python",
   "nbconvert_exporter": "python",
   "pygments_lexer": "ipython3",
   "version": "3.11.6"
  }
 },
 "nbformat": 4,
 "nbformat_minor": 2
}
